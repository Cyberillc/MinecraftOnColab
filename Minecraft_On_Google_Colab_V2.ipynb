{
  "cells": [
    {
      "cell_type": "markdown",
      "metadata": {
        "id": "_4IowSDVUZp8"
      },
      "source": [
        "# **1º Create/Update the Server**\n",
        "\n",
        "The code below will create your server and automatically accept the EULA (dont forget to actually read the EULA !). When you use these code cells, your server will be ready to start!\n",
        "\n",
        "Update: fixed JsonDecodeError! (It had an error that was becuase paper retired the old api, so we are using a new one!)"
      ]
    },
    {
      "cell_type": "markdown",
      "metadata": {
        "id": "7wrNfinQOlWV"
      },
      "source": [
        "\n",
        "**Download/Update the Minecraft Server**\n",
        "\n",
        "The code below will download Paper, a **very** optimized version of spigot that supports bukkit and spigot!\n",
        "\n",
        "The server files will be saved in Google Drive (in the Google account you choose or you are currently using).\n",
        "\n",
        "Also don't forget to check on https://papermc.io/downloads/paper to see if you are updated! :)"
      ]
    },
    {
      "cell_type": "code",
      "execution_count": null,
      "metadata": {
        "id": "Fy5-YjJMPV3S"
      },
      "outputs": [],
      "source": [
        "# Available versions:\n",
        "# - 1.21.4\n",
        "# - 1.21.3\n",
        "# - 1.21.2\n",
        "# - 1.21.1\n",
        "# - 1.21\n",
        "# - 1.20.6\n",
        "# - 1.20.5\n",
        "# - 1.20.4\n",
        "# - 1.20.3\n",
        "# - 1.20.2\n",
        "# - 1.20.1\n",
        "# - 1.20\n",
        "# - 1.19.4\n",
        "# - 1.19.3\n",
        "# - 1.19.2\n",
        "# - 1.19.1\n",
        "# - 1.19\n",
        "# - 1.18.2\n",
        "# - 1.18.1\n",
        "# - 1.18\n",
        "# - 1.17.1\n",
        "# - 1.17\n",
        "# - 1.16.5\n",
        "# - 1.16.4\n",
        "# - 1.16.3\n",
        "# - 1.15.2\n",
        "# - 1.14.4\n",
        "# - 1.13.2\n",
        "# - 1.12.2\n",
        "# - 1.11.2\n",
        "# - 1.10.2\n",
        "# - 1.9.4\n",
        "# - 1.8.8\n",
        "# Newer versions will work too as long as you use the newest version of java\n",
        "\n",
        "version = '1.21.4'\n",
        "\n",
        "# Choose server type. Currently available versions:\n",
        "# - paper (Most vanilla. It's the same as SPIGOT, bukkit but better and more optimized)\n",
        "# - forge (For using MODS) [Note, installation takes approximately 10-15 minutes, wait for \"COMPLETED\" after executing the first step.]\n",
        "# - fabric (For playing Fabric. It's an alternative to Forge thats \"more optimized\" and it supports snapshots!)\n",
        "\n",
        "server_type = 'paper'\n",
        "\n",
        "from google.colab import drive\n",
        "import requests\n",
        "import json\n",
        "\n",
        "drive.mount(\"/content/drive\", force_remount=True)\n",
        "\n",
        "# Create the directory which will be used for the server\n",
        "! mkdir \"/content/drive/My Drive/Minecraft-Server\"\n",
        "%cd \"/content/drive/My Drive/Minecraft-Server\"\n",
        "\n",
        "paperURL = \"https://mcjarfiles.com/api/get-jar/servers/paper/\" + version # newer and not retired api :D\n",
        "\n",
        "forgeURL = \"https://mcjarfiles.com/api/get-jar/modded/forge/\" + version # now this api is cooler and has the latest version B)\n",
        "\n",
        "jar_name = {'paper': 'paper.jar', 'fabric': 'fabric-installer.jar', 'forge': 'forge-installer.jar'}\n",
        "url = {\n",
        "    'paper': (paperURL),\n",
        "    'fabric': 'https://maven.fabricmc.net/net/fabricmc/fabric-installer/1.0.1/fabric-installer-1.0.1.jar',\n",
        "    'forge': (forgeURL)\n",
        "    }\n",
        "\n",
        "print('Downloading to Google Drive...')\n",
        "\n",
        "r = requests.get(url[server_type])\n",
        "\n",
        "if r.status_code == 200:\n",
        "  with open('/content/drive/My Drive/Minecraft-Server/' + jar_name[server_type], 'wb') as f:\n",
        "    f.write(r.content)\n",
        "else:\n",
        "  print('Error '+ str(r.status_code) + '! Most likely you put in a version of the game that doesnt even exist! Try running the code cell again if you think that shouldn\\'t have happened :)')\n",
        "\n",
        "# Running specific install path.\n",
        "if server_type == 'fabric':\n",
        "  !java -jar fabric-installer.jar server -mcversion $version -downloadMinecraft\n",
        "\n",
        "if server_type == 'forge':\n",
        "  %cd \"/content/drive/My Drive/Minecraft-Server\"\n",
        "  !java -jar forge-installer.jar --installServer\n",
        "\n",
        "# Saving config\n",
        "colabconfig = {\"server_type\": server_type,\n",
        "               \"server_version\": version,}\n",
        "\n",
        "json.dump(colabconfig, open(\"colabconfig.json\",'w'))\n",
        "\n",
        "print('Completed Server Install !')\n",
        "\n",
        "# Go to https://www.minecraft.net/en-us/eula to read Minecraft's EULA! Its gonna be very important if you wanna make a big minecraft server!\n",
        "\n",
        "# Make sure Drive is mounted\n",
        "from google.colab import drive\n",
        "drive.mount('/content/drive')\n",
        "\n",
        "%cd \"/content/drive/My Drive/Minecraft-Server\"\n",
        "!echo \"eula=true\" >> eula.txt"
      ]
    },
    {
      "cell_type": "markdown",
      "metadata": {
        "id": "Oi80gC-8chWW"
      },
      "source": [
        "# **2º** This script will start the server! To stop it click on the same button you used to start it!\n",
        "[Download PlayIt-GG](https://github.com/playit-cloud/playit-minecraft-plugin/releases/latest/download/playit-minecraft-plugin.jar)"
      ]
    },
    {
      "cell_type": "code",
      "execution_count": null,
      "metadata": {
        "colab": {
          "background_save": true
        },
        "id": "lqtMoYg0dUmu"
      },
      "outputs": [],
      "source": [
        "import os\n",
        "import re\n",
        "import json\n",
        "import glob\n",
        "\n",
        "# Update the package lists\n",
        "!sudo apt update &>/dev/null && echo \"apt cache successfully updated\" || echo \"apt cache update failed, the google colab backend might have to use very old linux packages :(\"\n",
        "\n",
        "# Mount Google Drive\n",
        "from google.colab import drive\n",
        "drive.mount('/content/drive')\n",
        "# Change directory to the Minecraft server folder on Google Drive\n",
        "%cd \"/content/drive/My Drive/Minecraft-Server\"\n",
        "!ls #list the directory contents (to check if that working directory was changed)\n",
        "\n",
        "# Import config file.\n",
        "if os.path.isfile(\"colabconfig.json\"):\n",
        "  colabconfig = json.load(open(\"colabconfig.json\"))\n",
        "else:\n",
        "  colabconfig = {\"server_type\": \"generic\"} # using default, if config doesn't exist.\n",
        "  json.dump(colabconfig, open(\"colabconfig.json\",'w'))\n",
        "\n",
        "\n",
        "if colabconfig[\"server_type\"] == \"forge\":\n",
        "   version = colabconfig[\"server_version\"]\n",
        "   if colabconfig[\"server_version\"] < \"1.17\":\n",
        "    !sudo apt-get install openjdk-15-jre-headless &>/dev/null && echo \"Yay! OpenJDK 15 has been successfully installed.\" || echo \"Failed to install OpenJDK 15 (Try again later)\"\n",
        "   else:\n",
        "    !sudo apt-get install openjdk-21-jre-headless &>/dev/null && echo \"Yay! OpenJDK 21 has been successfully installed.\" || echo \"Failed to install OpenJDK 23 (Try again later).\"\n",
        "else:\n",
        "  !sudo apt-get install openjdk-21-jre-headless &>/dev/null && echo \"Yay! OpenJDK 21 has been successfully installed.\" || echo \"Failed to install OpenJDK 23 (Try again later)\"\n",
        "\n",
        "#Perform java version check\n",
        "java_ver = !java -version 2>&1 | awk -F[\\\"\\.] -v OFS=. 'NR==1{print $2}'\n",
        "if java_ver[0] == \"21\" :\n",
        "  print(\"OpenJDK is working correctly, you're are good to go!\")\n",
        "\n",
        "# Server jar names.\n",
        "jar_list = {'paper': 'paper.jar', 'fabric': 'fabric-server-launch.jar', 'generic': 'server.jar', 'forge': 'forge.jar'}\n",
        "jar_name = jar_list[colabconfig[\"server_type\"]]\n",
        "\n",
        "# Java arguments.\n",
        "if colabconfig[\"server_type\"] == \"paper\":\n",
        "  server_flags = \"-XX:+UseG1GC -XX:+ParallelRefProcEnabled -XX:MaxGCPauseMillis=200 -XX:+UnlockExperimentalVMOptions -XX:+DisableExplicitGC -XX:+AlwaysPreTouch -XX:G1NewSizePercent=30 -XX:G1MaxNewSizePercent=40 -XX:G1HeapRegionSize=8M -XX:G1ReservePercent=20 -XX:G1HeapWastePercent=5 -XX:G1MixedGCCountTarget=4 -XX:InitiatingHeapOccupancyPercent=15 -XX:G1MixedGCLiveThresholdPercent=90 -XX:G1RSetUpdatingPauseTimePercent=5 -XX:SurvivorRatio=32 -XX:+PerfDisableSharedMem -XX:MaxTenuringThreshold=1 -Dusing.aikars.flags=https://mcflags.emc.gs -Daikars.new.flags=true\"\n",
        "else:\n",
        "  server_flags = \"\" # aiker's flags might negatively impact performance on non-paper servers.\n",
        "memory_allocation = \"-Xms10G -Xmx10G\"\n",
        "\n",
        "\n",
        "!java $memory_allocation $server_flags -jar $jar_name nogui\n",
        "\n"
      ]
    },
    {
      "cell_type": "markdown",
      "metadata": {
        "id": "MrnX6jsOvzh-"
      },
      "source": [
        "### FAQ - Essential Information\n",
        "\n",
        "While Google Colab is not made for hosting Minecraft servers. Its is possible to set one up. Here are some things to take away from this:\n",
        "\n",
        "- **Session Duration**: Google Colab sessions can run for up to 82 hours! but they might turn off the server if the page is inactive for a really long time! To keep your server running (so you players won't be annoyed!) you have to keep your server tab open as much as possible or you can download the colab alive extension!\n",
        "\n",
        "- **Performance Specs**: Google Colab provides around **12 GB** of RAM, a 2.2 GHz processor with 2 threads, which can outperform many paid hosting services. However, it lacks any support from google, so if anything goes wrong you're on your own!\n",
        "\n",
        "- **Mod and Plugin Limitations**: While you can install mods and plugins, it’s advisied to **not** overload the server with too many! As this can impact performance! To reduce this lag try to install a plugin like [LightOptimizer](https://www.spigotmc.org/resources/lightoptimizer-%E2%9A%A1-server-performance-booster-fps-helper-%E2%9A%A1.117477/) or a modpack like [1.21 Server Optimizations](https://modrinth.com/collection/YnSBBMnH)\n",
        "\n",
        "- **Best Use Cases**: If you’re planning to make a small Minecraft server for a few players or a smp (btw call it the colab smp XD) this is the perfect option! But, if you are thinking of making a server with more players, i'd recommend you to either buy a server or self host it on an old computer or cheap computer them you upgrade it to make it possible to host a server!.\n"
      ]
    }
  ],
  "metadata": {
    "colab": {
      "provenance": []
    },
    "kernelspec": {
      "display_name": "Python 3",
      "name": "python3"
    }
  },
  "nbformat": 4,
  "nbformat_minor": 0
}
